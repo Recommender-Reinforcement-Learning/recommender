{
 "cells": [
  {
   "cell_type": "code",
   "execution_count": null,
   "id": "75eb2bef",
   "metadata": {
    "tags": []
   },
   "outputs": [],
   "source": [
    "import numpy as np\n",
    "import pandas as pd\n",
    "import torch\n",
    "import torch.nn as nn\n",
    "import random\n",
    "\n",
    "from DataLoader import load_data\n",
    "from Agent import Actor, sample_action"
   ]
  },
  {
   "cell_type": "code",
   "execution_count": 2,
   "id": "60ab087c",
   "metadata": {},
   "outputs": [],
   "source": [
    "movies, ratings, user_embeddings, movie_embeddings, genre_embeddings_matrix, \\\n",
    "    movieId_to_genre_index, movieId_to_index, index_to_movieId, \\\n",
    "    unique_user_ids, userId_to_index, index_to_userId = load_data()"
   ]
  },
  {
   "cell_type": "code",
   "execution_count": 3,
   "id": "dbbe5352",
   "metadata": {},
   "outputs": [
    {
     "data": {
      "text/plain": [
       "Actor(\n",
       "  (fc1): Linear(in_features=60, out_features=128, bias=True)\n",
       "  (fc2): Linear(in_features=128, out_features=64, bias=True)\n",
       "  (output): Linear(in_features=64, out_features=77877, bias=True)\n",
       ")"
      ]
     },
     "execution_count": 3,
     "metadata": {},
     "output_type": "execute_result"
    }
   ],
   "source": [
    "actor = Actor(input_dim=user_embeddings.shape[1] + genre_embeddings_matrix.shape[1],\n",
    "                  output_dim=len(movie_embeddings))\n",
    "actor.load_state_dict(torch.load(\"trained_actor2.pt\"))\n",
    "actor.eval()"
   ]
  },
  {
   "cell_type": "code",
   "execution_count": 7,
   "id": "70d0eb50",
   "metadata": {},
   "outputs": [],
   "source": [
    "raw_movies = pd.read_csv('/Users/isaaclevy/Desktop/MSDS/DS7540/project/scripts/ml-25m/movies.csv')\n",
    "movieId_to_title = dict(zip(raw_movies['movieId'], raw_movies['title']))\n",
    "movieId_to_genre = dict(zip(raw_movies['movieId'], raw_movies['genres']))\n",
    "movies = pd.read_csv('/Users/isaaclevy/Desktop/MSDS/DS7540/project/scripts/ml-25m/movies.csv')\n",
    "ratings = pd.read_csv('/Users/isaaclevy/Desktop/MSDS/DS7540/project/scripts/ml-25m/ratings.csv')"
   ]
  },
  {
   "cell_type": "code",
   "execution_count": 8,
   "id": "9b4f6bc0",
   "metadata": {},
   "outputs": [],
   "source": [
    "# --- Build state vector ---\n",
    "def get_state(user_embed, history, genre_embeddings_matrix, movieId_to_genre_index, index_to_movieId):\n",
    "    history_genre_embeds = []\n",
    "\n",
    "    for movie_index in history:\n",
    "        movie_id = index_to_movieId[movie_index]\n",
    "        if movie_id in movieId_to_genre_index:\n",
    "            genre_index = movieId_to_genre_index[movie_id]\n",
    "            if 0 <= genre_index < genre_embeddings_matrix.shape[0]:\n",
    "                history_genre_embeds.append(torch.tensor(genre_embeddings_matrix[genre_index], dtype=torch.float32))\n",
    "\n",
    "    if history_genre_embeds:\n",
    "        history_genre_embed = torch.stack(history_genre_embeds).mean(dim=0)\n",
    "    else:\n",
    "        history_genre_embed = torch.zeros(genre_embeddings_matrix.shape[1], dtype=torch.float32)\n",
    "\n",
    "    return torch.cat([user_embed, history_genre_embed], dim=0)"
   ]
  },
  {
   "cell_type": "code",
   "execution_count": 59,
   "id": "e2eb6fef",
   "metadata": {},
   "outputs": [
    {
     "name": "stdout",
     "output_type": "stream",
     "text": [
      "Number of ratings available for current user: 155\n",
      "Loop length: 77\n"
     ]
    }
   ],
   "source": [
    "random_user_id = random.choice(ratings['userId'].unique())\n",
    "user_ratings = ratings[ratings['userId'] == random_user_id]\n",
    "user_index = userId_to_index[random_user_id]\n",
    "user_embed = torch.tensor(user_embeddings.mean(axis=0), dtype=torch.float32)\n",
    "\n",
    "user_movieIds = user_ratings['movieId'].tolist()\n",
    "user_movie_indices = [movieId_to_index[mid] for mid in user_movieIds if mid in movieId_to_index]\n",
    "\n",
    "if not user_movie_indices:\n",
    "    raise ValueError(f\"No rated movies found in index for user {random_user_id}\")\n",
    "\n",
    "initial_movie_index = random.choice(user_movie_indices)\n",
    "history = [initial_movie_index]\n",
    "\n",
    "num_ratings_available = len(user_ratings)\n",
    "num_recommendations = int(num_ratings_available / 2)\n",
    "print(f'Number of ratings available for current user: {num_ratings_available}')\n",
    "print(f'Loop length: {num_recommendations}')"
   ]
  },
  {
   "cell_type": "code",
   "execution_count": 60,
   "id": "dea5b94d",
   "metadata": {},
   "outputs": [
    {
     "data": {
      "text/plain": [
       "count    155.000000\n",
       "mean       3.632258\n",
       "std        1.056946\n",
       "min        1.000000\n",
       "25%        3.000000\n",
       "50%        4.000000\n",
       "75%        4.000000\n",
       "max        5.000000\n",
       "Name: rating, dtype: float64"
      ]
     },
     "execution_count": 60,
     "metadata": {},
     "output_type": "execute_result"
    }
   ],
   "source": [
    "user_ratings['rating'].describe()"
   ]
  },
  {
   "cell_type": "code",
   "execution_count": 61,
   "id": "588cc778",
   "metadata": {},
   "outputs": [
    {
     "name": "stdout",
     "output_type": "stream",
     "text": [
      "Testing on user 60411 (60411)\n",
      "Initial movie: Wedding Singer, The (1998)\n",
      "Initial movie rating: 4.0\n"
     ]
    }
   ],
   "source": [
    "print(f\"Testing on user {random_user_id} ({index_to_userId[user_index]})\")\n",
    "print(f\"Initial movie: {movieId_to_title[index_to_movieId[initial_movie_index]]}\")\n",
    "print(f\"Initial movie rating: {user_ratings[user_ratings['movieId'] == index_to_movieId[initial_movie_index]].iloc[0]['rating']}\")"
   ]
  },
  {
   "cell_type": "code",
   "execution_count": 62,
   "id": "c574f812",
   "metadata": {},
   "outputs": [
    {
     "name": "stdout",
     "output_type": "stream",
     "text": [
      "Step 1: Recommended 'Sneakers (1992)', User Rating: 5.0\n",
      "Step 2: Recommended 'Fight Club (1999)', User Rating: 5.0\n",
      "Step 3: Recommended 'U.S. Marshals (1998)', User Rating: 3.0\n",
      "Step 4: Recommended 'Species II (1998)', User Rating: 2.0\n",
      "Step 5: Recommended 'Kingpin (1996)', User Rating: 4.0\n",
      "Step 6: Recommended 'Batman & Robin (1997)', User Rating: 1.0\n",
      "Step 7: Recommended 'Waterworld (1995)', User Rating: 4.0\n",
      "Step 8: Recommended 'Pi (1998)', User Rating: 5.0\n",
      "Step 9: Recommended 'Cool Runnings (1993)', User Rating: 3.0\n",
      "Step 10: Recommended 'Deuce Bigalow: Male Gigolo (1999)', User Rating: 4.0\n",
      "Step 11: Recommended 'Silence of the Lambs, The (1991)', User Rating: 5.0\n",
      "Step 12: Recommended 'Big Daddy (1999)', User Rating: 3.0\n",
      "Step 13: Recommended 'Thin Red Line, The (1998)', User Rating: 4.0\n",
      "Step 14: Recommended 'Cable Guy, The (1996)', User Rating: 5.0\n",
      "Step 15: Recommended 'Independence Day (a.k.a. ID4) (1996)', User Rating: 4.0\n",
      "Step 16: Recommended 'Pretty Woman (1990)', User Rating: 3.0\n",
      "Step 17: Recommended 'Godfather, The (1972)', User Rating: 5.0\n",
      "Step 18: Recommended 'Pecker (1998)', User Rating: 2.0\n",
      "Step 19: Recommended 'Rock, The (1996)', User Rating: 3.0\n",
      "Step 20: Recommended 'Philadelphia (1993)', User Rating: 3.0\n",
      "Step 21: Recommended 'League of Their Own, A (1992)', User Rating: 4.0\n",
      "Step 22: Recommended 'Go (1999)', User Rating: 3.0\n",
      "Step 23: Recommended 'Patch Adams (1998)', User Rating: 2.0\n",
      "Step 24: Recommended 'Clear and Present Danger (1994)', User Rating: 3.0\n",
      "Step 25: Recommended 'Red Violin, The (Violon rouge, Le) (1998)', User Rating: 5.0\n",
      "Step 26: Recommended 'Who Framed Roger Rabbit? (1988)', User Rating: 3.0\n",
      "Step 27: Recommended 'Free Willy (1993)', User Rating: 2.0\n",
      "Step 28: Recommended 'Mystery Science Theater 3000: The Movie (1996)', User Rating: 5.0\n",
      "Step 29: Recommended 'MatchMaker, The (1997)', User Rating: 2.0\n",
      "Step 30: Recommended 'Mirror Has Two Faces, The (1996)', User Rating: 2.0\n",
      "Step 31: Recommended 'Fifth Element, The (1997)', User Rating: 4.0\n",
      "Step 32: Recommended 'Matrix, The (1999)', User Rating: 5.0\n",
      "Step 33: Recommended 'Outside Providence (1999)', User Rating: 4.0\n",
      "Step 34: Recommended 'Raising Arizona (1987)', User Rating: 4.0\n",
      "Step 35: Recommended 'Wing Commander (1999)', User Rating: 1.0\n",
      "Step 36: Recommended 'Naked Gun 33 1/3: The Final Insult (1994)', User Rating: 3.0\n",
      "Step 37: Recommended 'Little Rascals, The (1994)', User Rating: 3.0\n",
      "Step 38: Recommended 'Tommy Boy (1995)', User Rating: 4.0\n",
      "Step 39: Recommended 'GoldenEye (1995)', User Rating: 4.0\n",
      "Step 40: Recommended 'Godfather: Part II, The (1974)', User Rating: 4.0\n",
      "Step 41: Recommended 'Mission: Impossible (1996)', User Rating: 4.0\n",
      "Step 42: Recommended 'So I Married an Axe Murderer (1993)', User Rating: 4.0\n",
      "Step 43: Recommended 'Summer of Sam (1999)', User Rating: 3.0\n",
      "Step 44: Recommended 'Aladdin (1992)', User Rating: 3.0\n",
      "Step 45: Recommended 'Teenage Mutant Ninja Turtles (1990)', User Rating: 4.0\n",
      "Step 46: Recommended 'Swingers (1996)', User Rating: 4.0\n",
      "Step 47: Recommended 'Nutty Professor, The (1996)', User Rating: 3.0\n",
      "Step 48: Recommended 'Mask of Zorro, The (1998)', User Rating: 5.0\n",
      "Step 49: Recommended 'Stir of Echoes (1999)', User Rating: 3.0\n",
      "Step 50: Recommended 'Hunt for Red October, The (1990)', User Rating: 5.0\n",
      "Step 51: Recommended 'Waking Ned Devine (a.k.a. Waking Ned) (1998)', User Rating: 3.0\n",
      "Step 52: Recommended 'Bicycle Thieves (a.k.a. The Bicycle Thief) (a.k.a. The Bicycle Thieves) (Ladri di biciclette) (1948)', User Rating: 5.0\n",
      "Step 53: Recommended 'Rush Hour (1998)', User Rating: 4.0\n",
      "Step 54: Recommended 'Liar Liar (1997)', User Rating: 3.0\n",
      "Step 55: Recommended 'Varsity Blues (1999)', User Rating: 4.0\n",
      "Step 56: Recommended 'Talented Mr. Ripley, The (1999)', User Rating: 5.0\n",
      "Step 57: Recommended 'Clueless (1995)', User Rating: 3.0\n",
      "Step 58: Recommended 'Godzilla (1998)', User Rating: 2.0\n",
      "Step 59: Recommended 'Big Lebowski, The (1998)', User Rating: 3.0\n",
      "Step 60: Recommended 'American President, The (1995)', User Rating: 4.0\n",
      "Step 61: Recommended 'Hot Shots! Part Deux (1993)', User Rating: 4.0\n",
      "Step 62: Recommended 'Star Trek: First Contact (1996)', User Rating: 4.0\n",
      "Step 63: Recommended 'Mr. Holland's Opus (1995)', User Rating: 4.0\n",
      "Step 64: Recommended 'Toy Story (1995)', User Rating: 3.0\n",
      "Step 65: Recommended 'Mars Attacks! (1996)', User Rating: 3.0\n",
      "Step 66: Recommended 'Elizabeth (1998)', User Rating: 3.0\n",
      "Step 67: Recommended 'Avengers, The (1998)', User Rating: 1.0\n",
      "Step 68: Recommended 'Air Up There, The (1994)', User Rating: 3.0\n",
      "Step 69: Recommended 'Wag the Dog (1997)', User Rating: 2.0\n",
      "Step 70: Recommended 'Home Alone (1990)', User Rating: 4.0\n",
      "Step 71: Recommended 'Wayne's World 2 (1993)', User Rating: 5.0\n",
      "Step 72: Recommended 'Star Trek: Insurrection (1998)', User Rating: 4.0\n",
      "Step 73: Recommended 'Ace Ventura: When Nature Calls (1995)', User Rating: 4.0\n",
      "Step 74: Recommended 'Last of the Mohicans, The (1992)', User Rating: 4.0\n",
      "Step 75: Recommended 'Krippendorf's Tribe (1998)', User Rating: 2.0\n",
      "Step 76: Recommended 'There's Something About Mary (1998)', User Rating: 4.0\n",
      "Step 77: Recommended 'Joy Luck Club, The (1993)', User Rating: 5.0\n"
     ]
    }
   ],
   "source": [
    "rating_history = []\n",
    "for step in range(num_recommendations):\n",
    "    state = get_state(user_embed, history, genre_embeddings_matrix, movieId_to_genre_index, index_to_movieId)\n",
    "    \n",
    "    with torch.no_grad():\n",
    "        probs = actor(state)\n",
    "        probs = torch.softmax(probs, dim=0)\n",
    "    \n",
    "    available_movies = list(set(user_movie_indices) - set(history))\n",
    "    if not available_movies:\n",
    "        print(\"No more movies\")\n",
    "        break\n",
    "    \n",
    "    next_movie_index = sample_action(probs, available_movies)\n",
    "    next_movie_id = index_to_movieId[next_movie_index]\n",
    "    \n",
    "    history.append(next_movie_index)\n",
    "    \n",
    "    user_rating_row = user_ratings[user_ratings['movieId'] == next_movie_id]\n",
    "    if not user_rating_row.empty:\n",
    "        rating = user_rating_row.iloc[0]['rating']\n",
    "    else:\n",
    "        rating = None\n",
    "    \n",
    "    rating_history.append(rating)\n",
    "    \n",
    "    print(f\"Step {step + 1}: Recommended '{movieId_to_title[next_movie_id]}', User Rating: {rating}\")"
   ]
  },
  {
   "cell_type": "code",
   "execution_count": 63,
   "id": "7d732b1e",
   "metadata": {},
   "outputs": [
    {
     "data": {
      "text/html": [
       "<div>\n",
       "<style scoped>\n",
       "    .dataframe tbody tr th:only-of-type {\n",
       "        vertical-align: middle;\n",
       "    }\n",
       "\n",
       "    .dataframe tbody tr th {\n",
       "        vertical-align: top;\n",
       "    }\n",
       "\n",
       "    .dataframe thead th {\n",
       "        text-align: right;\n",
       "    }\n",
       "</style>\n",
       "<table border=\"1\" class=\"dataframe\">\n",
       "  <thead>\n",
       "    <tr style=\"text-align: right;\">\n",
       "      <th></th>\n",
       "      <th>Ratings</th>\n",
       "    </tr>\n",
       "  </thead>\n",
       "  <tbody>\n",
       "    <tr>\n",
       "      <th>count</th>\n",
       "      <td>77.000000</td>\n",
       "    </tr>\n",
       "    <tr>\n",
       "      <th>mean</th>\n",
       "      <td>3.545455</td>\n",
       "    </tr>\n",
       "    <tr>\n",
       "      <th>std</th>\n",
       "      <td>1.058120</td>\n",
       "    </tr>\n",
       "    <tr>\n",
       "      <th>min</th>\n",
       "      <td>1.000000</td>\n",
       "    </tr>\n",
       "    <tr>\n",
       "      <th>25%</th>\n",
       "      <td>3.000000</td>\n",
       "    </tr>\n",
       "    <tr>\n",
       "      <th>50%</th>\n",
       "      <td>4.000000</td>\n",
       "    </tr>\n",
       "    <tr>\n",
       "      <th>75%</th>\n",
       "      <td>4.000000</td>\n",
       "    </tr>\n",
       "    <tr>\n",
       "      <th>max</th>\n",
       "      <td>5.000000</td>\n",
       "    </tr>\n",
       "  </tbody>\n",
       "</table>\n",
       "</div>"
      ],
      "text/plain": [
       "         Ratings\n",
       "count  77.000000\n",
       "mean    3.545455\n",
       "std     1.058120\n",
       "min     1.000000\n",
       "25%     3.000000\n",
       "50%     4.000000\n",
       "75%     4.000000\n",
       "max     5.000000"
      ]
     },
     "execution_count": 63,
     "metadata": {},
     "output_type": "execute_result"
    }
   ],
   "source": [
    "pd.DataFrame({'Ratings': rating_history}).describe()"
   ]
  },
  {
   "cell_type": "code",
   "execution_count": null,
   "id": "42e1083a",
   "metadata": {},
   "outputs": [],
   "source": []
  }
 ],
 "metadata": {
  "kernelspec": {
   "display_name": "base",
   "language": "python",
   "name": "python3"
  },
  "language_info": {
   "codemirror_mode": {
    "name": "ipython",
    "version": 3
   },
   "file_extension": ".py",
   "mimetype": "text/x-python",
   "name": "python",
   "nbconvert_exporter": "python",
   "pygments_lexer": "ipython3",
   "version": "3.12.2"
  }
 },
 "nbformat": 4,
 "nbformat_minor": 5
}
