{
 "cells": [
  {
   "cell_type": "code",
   "execution_count": 5,
   "id": "dc022a11-68e0-4461-8fa5-0f1e2f042bf6",
   "metadata": {
    "tags": []
   },
   "outputs": [],
   "source": [
    "import pandas as pd\n",
    "import numpy as np\n",
    "from sklearn.decomposition import TruncatedSVD"
   ]
  },
  {
   "cell_type": "code",
   "execution_count": 2,
   "id": "27de0316-a382-4fdb-a9a9-3a8207d027f1",
   "metadata": {
    "tags": []
   },
   "outputs": [],
   "source": [
    "ratings = pd.read_csv('/home/gbz6qn/Documents/MSDS/DS7540/project/ml-32m/ratings.csv')\n",
    "movies = pd.read_csv('/home/gbz6qn/Documents/MSDS/DS7540/project/ml-32m/movies.csv')"
   ]
  },
  {
   "cell_type": "code",
   "execution_count": 3,
   "id": "7dd3ecef-5b28-4f7f-916e-f6c65bfd93a5",
   "metadata": {
    "tags": []
   },
   "outputs": [],
   "source": [
    "ratings['timestamp'] = pd.to_datetime(ratings['timestamp'], unit='s')\n",
    "ratings = ratings.sort_values(['userId', 'timestamp'])"
   ]
  },
  {
   "cell_type": "code",
   "execution_count": 4,
   "id": "df1317c9-0c54-49e3-b6cd-526c45b0d62b",
   "metadata": {
    "tags": []
   },
   "outputs": [
    {
     "name": "stderr",
     "output_type": "stream",
     "text": [
      "/tmp/ipykernel_740693/2894868851.py:1: DeprecationWarning: DataFrameGroupBy.apply operated on the grouping columns. This behavior is deprecated, and in a future version of pandas the grouping columns will be excluded from the operation. Either pass `include_groups=False` to exclude the groupings or explicitly select the grouping columns after groupby to silence this warning.\n",
      "  user_sequences = ratings.groupby('userId').apply(lambda x: x[['movieId', 'rating']]).values.tolist()\n"
     ]
    }
   ],
   "source": [
    "user_sequences = ratings.groupby('userId').apply(lambda x: x[['movieId', 'rating']]).values.tolist()"
   ]
  },
  {
   "cell_type": "code",
   "execution_count": null,
   "id": "4b2a2fe9-8786-4f88-be6e-95d5079011c5",
   "metadata": {
    "tags": []
   },
   "outputs": [
    {
     "name": "stderr",
     "output_type": "stream",
     "text": [
      "/tmp/ipykernel_740693/931664335.py:1: PerformanceWarning: The following operation may generate 16966441536 cells in the resulting pandas object.\n",
      "  rating_matrix = ratings.pivot(index='userId', columns='movieId', values='rating').fillna(0)\n"
     ]
    }
   ],
   "source": [
    "rating_matrix = ratings.pivot(index='userId', columns='movieId', values='rating').fillna(0)"
   ]
  },
  {
   "cell_type": "code",
   "execution_count": null,
   "id": "2bee593f-c530-4659-967a-a4042eb4fdb4",
   "metadata": {},
   "outputs": [],
   "source": [
    "svd = TruncatedSVD(n_components=50)"
   ]
  },
  {
   "cell_type": "code",
   "execution_count": null,
   "id": "b12c0c58-5311-4acd-aed8-1aa88c511fe6",
   "metadata": {},
   "outputs": [],
   "source": [
    "movie_embeddings = svd.fit_transform(rating_matrix.T)\n",
    "np.save('/home/gbz6qn/Documents/MSDS/DS7540/project/recommender/movie_embeddings.npy', movie_embeddings)"
   ]
  },
  {
   "cell_type": "code",
   "execution_count": null,
   "id": "570987df-6fa9-4e67-9e7d-863bd77a3834",
   "metadata": {},
   "outputs": [],
   "source": [
    "user_embeddings = svd.transform(rating_matrix)\n",
    "np.save('/home/gbz6qn/Documents/MSDS/DS7540/project/recommender/user_embeddings.npy', movie_embeddings)"
   ]
  }
 ],
 "metadata": {
  "kernelspec": {
   "display_name": "PyTorch 2.4.0",
   "language": "python",
   "name": "pytorch-2.4.0"
  },
  "language_info": {
   "codemirror_mode": {
    "name": "ipython",
    "version": 3
   },
   "file_extension": ".py",
   "mimetype": "text/x-python",
   "name": "python",
   "nbconvert_exporter": "python",
   "pygments_lexer": "ipython3",
   "version": "3.10.12"
  }
 },
 "nbformat": 4,
 "nbformat_minor": 5
}
