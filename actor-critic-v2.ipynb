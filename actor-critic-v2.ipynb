{
 "cells": [
  {
   "cell_type": "code",
   "execution_count": 1,
   "id": "75eb2bef",
   "metadata": {
    "tags": []
   },
   "outputs": [],
   "source": [
    "import pandas as pd\n",
    "import numpy as np\n",
    "from sklearn.decomposition import TruncatedSVD"
   ]
  },
  {
   "cell_type": "code",
   "execution_count": 3,
   "id": "431d7e57",
   "metadata": {
    "tags": []
   },
   "outputs": [],
   "source": [
    "ratings = pd.read_csv('/home/gbz6qn/Documents/MSDS/DS7540/project/ml-32m/ratings.csv')\n",
    "movies = pd.read_csv('/home/gbz6qn/Documents/MSDS/DS7540/project/ml-32m/movies.csv')"
   ]
  },
  {
   "cell_type": "code",
   "execution_count": 4,
   "id": "302e6ccd",
   "metadata": {
    "tags": []
   },
   "outputs": [
    {
     "data": {
      "text/html": [
       "<div>\n",
       "<style scoped>\n",
       "    .dataframe tbody tr th:only-of-type {\n",
       "        vertical-align: middle;\n",
       "    }\n",
       "\n",
       "    .dataframe tbody tr th {\n",
       "        vertical-align: top;\n",
       "    }\n",
       "\n",
       "    .dataframe thead th {\n",
       "        text-align: right;\n",
       "    }\n",
       "</style>\n",
       "<table border=\"1\" class=\"dataframe\">\n",
       "  <thead>\n",
       "    <tr style=\"text-align: right;\">\n",
       "      <th></th>\n",
       "      <th>movieId</th>\n",
       "      <th>title</th>\n",
       "      <th>genres</th>\n",
       "    </tr>\n",
       "  </thead>\n",
       "  <tbody>\n",
       "    <tr>\n",
       "      <th>0</th>\n",
       "      <td>1</td>\n",
       "      <td>Toy Story (1995)</td>\n",
       "      <td>Adventure|Animation|Children|Comedy|Fantasy</td>\n",
       "    </tr>\n",
       "    <tr>\n",
       "      <th>1</th>\n",
       "      <td>2</td>\n",
       "      <td>Jumanji (1995)</td>\n",
       "      <td>Adventure|Children|Fantasy</td>\n",
       "    </tr>\n",
       "    <tr>\n",
       "      <th>2</th>\n",
       "      <td>3</td>\n",
       "      <td>Grumpier Old Men (1995)</td>\n",
       "      <td>Comedy|Romance</td>\n",
       "    </tr>\n",
       "    <tr>\n",
       "      <th>3</th>\n",
       "      <td>4</td>\n",
       "      <td>Waiting to Exhale (1995)</td>\n",
       "      <td>Comedy|Drama|Romance</td>\n",
       "    </tr>\n",
       "    <tr>\n",
       "      <th>4</th>\n",
       "      <td>5</td>\n",
       "      <td>Father of the Bride Part II (1995)</td>\n",
       "      <td>Comedy</td>\n",
       "    </tr>\n",
       "  </tbody>\n",
       "</table>\n",
       "</div>"
      ],
      "text/plain": [
       "   movieId                               title  \\\n",
       "0        1                    Toy Story (1995)   \n",
       "1        2                      Jumanji (1995)   \n",
       "2        3             Grumpier Old Men (1995)   \n",
       "3        4            Waiting to Exhale (1995)   \n",
       "4        5  Father of the Bride Part II (1995)   \n",
       "\n",
       "                                        genres  \n",
       "0  Adventure|Animation|Children|Comedy|Fantasy  \n",
       "1                   Adventure|Children|Fantasy  \n",
       "2                               Comedy|Romance  \n",
       "3                         Comedy|Drama|Romance  \n",
       "4                                       Comedy  "
      ]
     },
     "execution_count": 4,
     "metadata": {},
     "output_type": "execute_result"
    }
   ],
   "source": [
    "movies.head()"
   ]
  },
  {
   "cell_type": "code",
   "execution_count": 5,
   "id": "4dc48f6b",
   "metadata": {
    "tags": []
   },
   "outputs": [],
   "source": [
    "ratings['timestamp'] = pd.to_datetime(ratings['timestamp'], unit='s')\n",
    "ratings = ratings.sort_values(['userId', 'timestamp'])"
   ]
  },
  {
   "cell_type": "code",
   "execution_count": 30,
   "id": "fcf3b1ed",
   "metadata": {
    "tags": []
   },
   "outputs": [],
   "source": [
    "#movie_embeddings = np.load('movie_embeddings.npy')\n",
    "movies = pd.read_csv('movies_one_hot_genres.csv', index_col='Unnamed: 0')\n",
    "user_embeddings = np.load('user_embeddings.npy')"
   ]
  },
  {
   "cell_type": "code",
   "execution_count": 31,
   "id": "21ea1c02-4fce-4ee3-821f-a70bb25214b0",
   "metadata": {
    "tags": []
   },
   "outputs": [
    {
     "data": {
      "text/plain": [
       "Index(['movieId', 'title', 'No Genres Listed', 'Action', 'Adventure',\n",
       "       'Animation', 'Children', 'Comedy', 'Crime', 'Documentary', 'Drama',\n",
       "       'Fantasy', 'Film-Noir', 'Horror', 'IMAX', 'Musical', 'Mystery',\n",
       "       'Romance', 'Sci-Fi', 'Thriller', 'War', 'Western'],\n",
       "      dtype='object')"
      ]
     },
     "execution_count": 31,
     "metadata": {},
     "output_type": "execute_result"
    }
   ],
   "source": [
    "movies.columns"
   ]
  },
  {
   "cell_type": "code",
   "execution_count": 32,
   "id": "528e7611-6c65-4df0-946c-a08f8e466d4a",
   "metadata": {
    "tags": []
   },
   "outputs": [],
   "source": [
    "new_index = movies['movieId']\n",
    "movie_embeddings = movies[['No Genres Listed', 'Action', 'Adventure',\n",
    "       'Animation', 'Children', 'Comedy', 'Crime', 'Documentary', 'Drama',\n",
    "       'Fantasy', 'Film-Noir', 'Horror', 'IMAX', 'Musical', 'Mystery',\n",
    "       'Romance', 'Sci-Fi', 'Thriller', 'War', 'Western']]"
   ]
  },
  {
   "cell_type": "code",
   "execution_count": 33,
   "id": "d828c55f-fc28-4b12-806e-e0a898974e0c",
   "metadata": {
    "tags": []
   },
   "outputs": [],
   "source": [
    "genres = ['No Genres Listed', 'Action', 'Adventure',\n",
    "       'Animation', 'Children', 'Comedy', 'Crime', 'Documentary', 'Drama',\n",
    "       'Fantasy', 'Film-Noir', 'Horror', 'IMAX', 'Musical', 'Mystery',\n",
    "       'Romance', 'Sci-Fi', 'Thriller', 'War', 'Western']"
   ]
  },
  {
   "cell_type": "code",
   "execution_count": 21,
   "id": "d54073ad-2c95-406a-9b72-544881223e0a",
   "metadata": {
    "tags": []
   },
   "outputs": [],
   "source": [
    "movie_embeddings.index = new_index"
   ]
  },
  {
   "cell_type": "code",
   "execution_count": 16,
   "id": "c6ed8f8b-500a-4017-ada0-879e85274290",
   "metadata": {
    "tags": []
   },
   "outputs": [],
   "source": [
    "import torch\n",
    "import torch.nn as nn\n",
    "import torch.optim as optim\n",
    "import random\n",
    "import pandas as pd\n",
    "import numpy as np\n",
    "import matplotlib.pyplot as plt"
   ]
  },
  {
   "cell_type": "code",
   "execution_count": 34,
   "id": "17ec2374-eebf-4ac3-bad1-91993a61a8c7",
   "metadata": {
    "tags": []
   },
   "outputs": [],
   "source": [
    "# Initialize SVD for genre embeddings (choose a suitable number of components)\n",
    "n_genre_components = 10  # You can experiment with this value\n",
    "genre_svd = TruncatedSVD(n_components=n_genre_components)\n",
    "genre_embeddings_matrix = genre_svd.fit_transform(movie_embeddings)\n",
    "\n",
    "# Create a mapping from movieId to the index in the genre embeddings matrix\n",
    "movieId_to_genre_index = {row['movieId']: index for index, row in movies[['movieId']].iterrows()}"
   ]
  },
  {
   "cell_type": "code",
   "execution_count": 47,
   "id": "c3eb50d7-d421-490d-8946-d6be0531c80b",
   "metadata": {
    "tags": []
   },
   "outputs": [],
   "source": [
    "np.save('genre_embeddings.npy', genre_embeddings_matrix)\n"
   ]
  },
  {
   "cell_type": "code",
   "execution_count": 17,
   "id": "98d07992-0a44-4cb5-8a95-858efa32d5b3",
   "metadata": {
    "tags": []
   },
   "outputs": [],
   "source": [
    "# Load your data and embeddings:\n",
    "# ratings: DataFrame with 'userId', 'movieId', 'rating'\n",
    "# user_embeddings: NumPy array (num_users x embed_dim)\n",
    "# movie_embeddings: NumPy array (num_movies x embed_dim)\n",
    "\n",
    "# --- Preprocessing: Create movieId ↔ index mapping ---\n",
    "unique_movie_ids = sorted(movie_embeddings['movieId'].unique())\n",
    "movieId_to_index = {movie_id: idx for idx, movie_id in enumerate(unique_movie_ids)}\n",
    "index_to_movieId = {idx: movie_id for movie_id, idx in movieId_to_index.items()}\n",
    "\n",
    "# Align movie embeddings to this mapping\n",
    "movie_embeddings = movie_embeddings[[movieId_to_index[m] for m in unique_movie_ids]]"
   ]
  },
  {
   "cell_type": "code",
   "execution_count": 22,
   "id": "14b1eb0d-55a8-45dd-919d-8a47ad83a03f",
   "metadata": {
    "tags": []
   },
   "outputs": [
    {
     "data": {
      "text/plain": [
       "(84432, 20)"
      ]
     },
     "execution_count": 22,
     "metadata": {},
     "output_type": "execute_result"
    }
   ],
   "source": [
    "movie_embeddings.shape"
   ]
  },
  {
   "cell_type": "code",
   "execution_count": 54,
   "id": "7642e0d4",
   "metadata": {
    "tags": []
   },
   "outputs": [],
   "source": [
    "# --- Hyperparameters ---\n",
    "EMBED_DIM = user_embeddings.shape[1]\n",
    "GENRE_EMBED_DIM = genre_embeddings_matrix.shape[1]\n",
    "STATE_DIM = EMBED_DIM + GENRE_EMBED_DIM\n",
    "GAMMA = 0.99\n",
    "LR = 1e-4\n",
    "NUM_EPISODES = 1_000\n",
    "\n",
    "# --- Define Actor-Critic Networks ---\n",
    "class Actor(nn.Module):\n",
    "    def __init__(self, input_dim, output_dim, temperature=1.0):\n",
    "        super().__init__()\n",
    "        self.net = nn.Sequential(\n",
    "            nn.Linear(input_dim, 128),\n",
    "            nn.ReLU(),\n",
    "            nn.Linear(128, output_dim)\n",
    "        )\n",
    "        self.temperature = temperature\n",
    "\n",
    "    def forward(self, state):\n",
    "        logits = self.net(state)\n",
    "        return torch.softmax(logits / self.temperature, dim=-1)\n",
    "\n",
    "class Critic(nn.Module):\n",
    "    def __init__(self, input_dim):\n",
    "        super().__init__()\n",
    "        self.net = nn.Sequential(\n",
    "            nn.Linear(input_dim, 128),\n",
    "            nn.ReLU(),\n",
    "            nn.Linear(128, 1)\n",
    "        )\n",
    "\n",
    "    def forward(self, state):\n",
    "        return self.net(state)\n",
    "\n",
    "# --- Helper: Construct state vector ---\n",
    "def get_state(user_id, history, user_embeddings, movie_embeddings, movies_df, movieId_to_genre_index, genre_embeddings_matrix):\n",
    "    user_embed = torch.tensor(user_embeddings[user_id], dtype=torch.float32)\n",
    "    history_genre_embed = torch.zeros(genre_embeddings_matrix.shape[1], dtype=torch.float32) # Initialize\n",
    "\n",
    "    if history:\n",
    "        history_movie_genre_embeds = []\n",
    "        for movie_index in history:\n",
    "            movie_id = index_to_movieId[movie_index]\n",
    "            if movie_id in movieId_to_genre_index:\n",
    "                genre_index = movieId_to_genre_index[movie_id]\n",
    "                history_movie_genre_embeds.append(torch.tensor(genre_embeddings_matrix[genre_index], dtype=torch.float32))\n",
    "\n",
    "        if history_movie_genre_embeds:\n",
    "            history_genre_embed = torch.stack(history_movie_genre_embeds).mean(dim=0)\n",
    "\n",
    "    return torch.cat([user_embed, history_genre_embed], dim=0)\n",
    "\n",
    "# --- Helper: Sample a movie from action probs ---\n",
    "def sample_action(probs, available_movies):\n",
    "    available_movies_tensor = torch.tensor(available_movies, dtype=torch.long)\n",
    "    probs_filtered = probs[available_movies_tensor]\n",
    "\n",
    "    if probs_filtered.sum().item() == 0 or torch.any(torch.isnan(probs_filtered)):\n",
    "        idx = random.randint(0, len(available_movies) - 1)\n",
    "    else:\n",
    "        probs_filtered /= probs_filtered.sum()\n",
    "        idx = torch.multinomial(probs_filtered, 1).item()\n",
    "\n",
    "    return available_movies[idx]\n",
    "\n",
    "# --- Evaluation Function ---\n",
    "def evaluate_policy(actor, user_embeddings, movie_embeddings, ratings, test_users, movies, movieId_to_genre_index, genre_embeddings_matrix, k=1):\n",
    "    rewards = []\n",
    "    for user_id in test_users:\n",
    "        rated = ratings[ratings['userId'] == user_id]\n",
    "        available = [movieId_to_index[m] for m in rated['movieId'] if m in movieId_to_index]\n",
    "        if not available:\n",
    "            continue\n",
    "        state = get_state(user_id, [], user_embeddings, movie_embeddings, movies, movieId_to_genre_index, genre_embeddings_matrix)\n",
    "        probs = actor(state)\n",
    "        action = sample_action(probs, available)\n",
    "        movie_id = index_to_movieId[action]\n",
    "        reward_row = rated[rated['movieId'] == movie_id]\n",
    "        if not reward_row.empty:\n",
    "            rewards.append(reward_row['rating'].values[0] / 5.0)\n",
    "    return np.mean(rewards) if rewards else 0.0"
   ]
  },
  {
   "cell_type": "code",
   "execution_count": 55,
   "id": "289dbc5a-6a25-4ff3-a1dc-5139161fbf55",
   "metadata": {
    "tags": []
   },
   "outputs": [
    {
     "name": "stdout",
     "output_type": "stream",
     "text": [
      "[Ep 0] Avg Reward: 6.600 | Hit Rate: 0.60\n",
      "[Eval @ Ep 0] Avg Test Reward: 0.765\n",
      "[Ep 10] Avg Reward: 7.440 | Hit Rate: 0.89\n",
      "[Ep 20] Avg Reward: 8.180 | Hit Rate: 0.96\n",
      "[Ep 30] Avg Reward: 7.770 | Hit Rate: 0.98\n",
      "[Ep 40] Avg Reward: 7.300 | Hit Rate: 0.84\n",
      "[Ep 50] Avg Reward: 7.640 | Hit Rate: 0.85\n",
      "[Eval @ Ep 50] Avg Test Reward: 0.786\n",
      "[Ep 60] Avg Reward: 7.730 | Hit Rate: 0.92\n",
      "[Ep 70] Avg Reward: 8.360 | Hit Rate: 0.91\n",
      "[Ep 80] Avg Reward: 7.810 | Hit Rate: 0.97\n",
      "[Ep 90] Avg Reward: 7.460 | Hit Rate: 0.87\n",
      "[Ep 100] Avg Reward: 7.010 | Hit Rate: 0.83\n",
      "[Eval @ Ep 100] Avg Test Reward: 0.794\n",
      "[Ep 110] Avg Reward: 7.840 | Hit Rate: 0.90\n",
      "[Ep 120] Avg Reward: 7.560 | Hit Rate: 0.80\n",
      "[Ep 130] Avg Reward: 8.040 | Hit Rate: 0.93\n",
      "[Ep 140] Avg Reward: 8.510 | Hit Rate: 0.96\n",
      "[Ep 150] Avg Reward: 8.300 | Hit Rate: 1.00\n",
      "[Eval @ Ep 150] Avg Test Reward: 0.794\n",
      "[Ep 160] Avg Reward: 8.380 | Hit Rate: 0.88\n",
      "[Ep 170] Avg Reward: 8.800 | Hit Rate: 0.97\n",
      "[Ep 180] Avg Reward: 8.140 | Hit Rate: 0.93\n",
      "[Ep 190] Avg Reward: 8.170 | Hit Rate: 0.80\n",
      "[Ep 200] Avg Reward: 7.850 | Hit Rate: 0.81\n",
      "[Eval @ Ep 200] Avg Test Reward: 0.807\n",
      "[Ep 210] Avg Reward: 8.120 | Hit Rate: 0.89\n",
      "[Ep 220] Avg Reward: 7.320 | Hit Rate: 0.67\n",
      "[Ep 230] Avg Reward: 7.820 | Hit Rate: 0.78\n",
      "[Ep 240] Avg Reward: 7.850 | Hit Rate: 0.90\n",
      "[Ep 250] Avg Reward: 8.610 | Hit Rate: 0.94\n",
      "[Eval @ Ep 250] Avg Test Reward: 0.798\n",
      "[Ep 260] Avg Reward: 8.170 | Hit Rate: 0.97\n",
      "[Ep 270] Avg Reward: 8.130 | Hit Rate: 0.88\n",
      "[Ep 280] Avg Reward: 7.530 | Hit Rate: 0.91\n",
      "[Ep 290] Avg Reward: 8.170 | Hit Rate: 0.99\n",
      "[Ep 300] Avg Reward: 7.840 | Hit Rate: 0.95\n",
      "[Eval @ Ep 300] Avg Test Reward: 0.825\n",
      "[Ep 310] Avg Reward: 8.590 | Hit Rate: 0.95\n",
      "[Ep 320] Avg Reward: 8.090 | Hit Rate: 0.89\n",
      "[Ep 330] Avg Reward: 8.890 | Hit Rate: 0.98\n",
      "[Ep 340] Avg Reward: 8.110 | Hit Rate: 0.96\n",
      "[Ep 350] Avg Reward: 8.290 | Hit Rate: 0.89\n",
      "[Eval @ Ep 350] Avg Test Reward: 0.806\n",
      "[Ep 360] Avg Reward: 8.470 | Hit Rate: 0.96\n",
      "[Ep 370] Avg Reward: 8.060 | Hit Rate: 0.89\n",
      "[Ep 380] Avg Reward: 8.030 | Hit Rate: 0.91\n",
      "[Ep 390] Avg Reward: 8.400 | Hit Rate: 0.96\n",
      "[Ep 400] Avg Reward: 7.040 | Hit Rate: 0.74\n",
      "[Eval @ Ep 400] Avg Test Reward: 0.829\n",
      "[Ep 410] Avg Reward: 8.240 | Hit Rate: 0.90\n",
      "[Ep 420] Avg Reward: 8.590 | Hit Rate: 0.93\n",
      "[Ep 430] Avg Reward: 7.860 | Hit Rate: 0.97\n",
      "[Ep 440] Avg Reward: 8.410 | Hit Rate: 0.90\n",
      "[Ep 450] Avg Reward: 8.640 | Hit Rate: 0.99\n",
      "[Eval @ Ep 450] Avg Test Reward: 0.823\n",
      "[Ep 460] Avg Reward: 8.470 | Hit Rate: 0.90\n",
      "[Ep 470] Avg Reward: 8.560 | Hit Rate: 0.98\n",
      "[Ep 480] Avg Reward: 8.230 | Hit Rate: 0.98\n",
      "[Ep 490] Avg Reward: 7.530 | Hit Rate: 0.85\n",
      "[Ep 500] Avg Reward: 8.280 | Hit Rate: 0.89\n",
      "[Eval @ Ep 500] Avg Test Reward: 0.852\n",
      "[Ep 510] Avg Reward: 7.410 | Hit Rate: 0.80\n",
      "[Ep 520] Avg Reward: 7.910 | Hit Rate: 0.90\n",
      "[Ep 530] Avg Reward: 9.030 | Hit Rate: 1.00\n",
      "[Ep 540] Avg Reward: 7.640 | Hit Rate: 0.94\n",
      "[Ep 550] Avg Reward: 7.870 | Hit Rate: 0.89\n",
      "[Eval @ Ep 550] Avg Test Reward: 0.803\n",
      "[Ep 560] Avg Reward: 8.210 | Hit Rate: 0.80\n",
      "[Ep 570] Avg Reward: 7.410 | Hit Rate: 0.80\n",
      "[Ep 580] Avg Reward: 8.070 | Hit Rate: 0.79\n",
      "[Ep 590] Avg Reward: 8.750 | Hit Rate: 0.94\n",
      "[Ep 600] Avg Reward: 7.740 | Hit Rate: 0.92\n",
      "[Eval @ Ep 600] Avg Test Reward: 0.827\n",
      "[Ep 610] Avg Reward: 7.570 | Hit Rate: 0.89\n",
      "[Ep 620] Avg Reward: 8.400 | Hit Rate: 1.00\n",
      "[Ep 630] Avg Reward: 8.570 | Hit Rate: 1.00\n",
      "[Ep 640] Avg Reward: 8.770 | Hit Rate: 1.00\n",
      "[Ep 650] Avg Reward: 7.720 | Hit Rate: 0.92\n",
      "[Eval @ Ep 650] Avg Test Reward: 0.800\n",
      "[Ep 660] Avg Reward: 8.470 | Hit Rate: 0.96\n",
      "[Ep 670] Avg Reward: 8.750 | Hit Rate: 0.97\n",
      "[Ep 680] Avg Reward: 7.560 | Hit Rate: 0.90\n",
      "[Ep 690] Avg Reward: 8.070 | Hit Rate: 0.81\n",
      "[Ep 700] Avg Reward: 8.050 | Hit Rate: 0.99\n",
      "[Eval @ Ep 700] Avg Test Reward: 0.841\n",
      "[Ep 710] Avg Reward: 7.350 | Hit Rate: 0.81\n",
      "[Ep 720] Avg Reward: 8.950 | Hit Rate: 0.97\n",
      "[Ep 730] Avg Reward: 8.130 | Hit Rate: 1.00\n",
      "[Ep 740] Avg Reward: 7.030 | Hit Rate: 0.73\n",
      "[Ep 750] Avg Reward: 8.170 | Hit Rate: 0.94\n",
      "[Eval @ Ep 750] Avg Test Reward: 0.811\n",
      "[Ep 760] Avg Reward: 8.830 | Hit Rate: 0.94\n",
      "[Ep 770] Avg Reward: 8.290 | Hit Rate: 0.90\n",
      "[Ep 780] Avg Reward: 7.730 | Hit Rate: 0.90\n",
      "[Ep 790] Avg Reward: 7.570 | Hit Rate: 0.89\n",
      "[Ep 800] Avg Reward: 7.210 | Hit Rate: 0.81\n",
      "[Eval @ Ep 800] Avg Test Reward: 0.856\n",
      "[Ep 810] Avg Reward: 7.240 | Hit Rate: 0.85\n",
      "[Ep 820] Avg Reward: 8.100 | Hit Rate: 0.83\n",
      "[Ep 830] Avg Reward: 9.070 | Hit Rate: 1.00\n",
      "[Ep 840] Avg Reward: 7.900 | Hit Rate: 0.93\n",
      "[Ep 850] Avg Reward: 7.080 | Hit Rate: 0.79\n",
      "[Eval @ Ep 850] Avg Test Reward: 0.815\n",
      "[Ep 860] Avg Reward: 7.460 | Hit Rate: 0.75\n",
      "[Ep 870] Avg Reward: 8.380 | Hit Rate: 0.90\n",
      "[Ep 880] Avg Reward: 8.960 | Hit Rate: 1.00\n",
      "[Ep 890] Avg Reward: 8.310 | Hit Rate: 0.98\n",
      "[Ep 900] Avg Reward: 9.020 | Hit Rate: 1.00\n",
      "[Eval @ Ep 900] Avg Test Reward: 0.858\n",
      "[Ep 910] Avg Reward: 8.190 | Hit Rate: 0.89\n",
      "[Ep 920] Avg Reward: 7.640 | Hit Rate: 0.87\n",
      "[Ep 930] Avg Reward: 7.290 | Hit Rate: 0.82\n",
      "[Ep 940] Avg Reward: 8.500 | Hit Rate: 0.98\n",
      "[Ep 950] Avg Reward: 8.310 | Hit Rate: 0.93\n",
      "[Eval @ Ep 950] Avg Test Reward: 0.830\n",
      "[Ep 960] Avg Reward: 8.260 | Hit Rate: 0.92\n",
      "[Ep 970] Avg Reward: 8.480 | Hit Rate: 0.96\n",
      "[Ep 980] Avg Reward: 8.840 | Hit Rate: 1.00\n",
      "[Ep 990] Avg Reward: 8.270 | Hit Rate: 0.91\n"
     ]
    },
    {
     "data": {
      "image/png": "[encoded data removed]",
      "text/plain": [
       "<Figure size 1200x400 with 3 Axes>"
      ]
     },
     "metadata": {},
     "output_type": "display_data"
    }
   ],
   "source": [
    "# --- Instantiate models and optimizers ---\n",
    "actor = Actor(input_dim=STATE_DIM, output_dim=len(movie_embeddings))\n",
    "critic = Critic(input_dim=STATE_DIM)\n",
    "actor_optim = optim.Adam(actor.parameters(), lr=LR)\n",
    "critic_optim = optim.Adam(critic.parameters(), lr=LR)\n",
    "\n",
    "# --- Trackers ---\n",
    "reward_history = []\n",
    "actor_losses = []\n",
    "critic_losses = []\n",
    "hit_rates = []\n",
    "eval_scores = []\n",
    "\n",
    "# --- Training Loop ---\n",
    "for episode in range(NUM_EPISODES):\n",
    "    user_id = random.randint(0, user_embeddings.shape[0] - 1)\n",
    "    rated = ratings[ratings['userId'] == user_id]\n",
    "    rated_movie_ids = rated['movieId'].unique()\n",
    "    available_movies = [movieId_to_index[mid] for mid in rated_movie_ids if mid in movieId_to_index]\n",
    "\n",
    "    if len(available_movies) == 0:\n",
    "        continue\n",
    "\n",
    "    history = []\n",
    "    total_reward = 0\n",
    "    correct_recommendations = 0\n",
    "\n",
    "    for t in range(10):\n",
    "        state = get_state(user_id, history, user_embeddings, movie_embeddings, movies, movieId_to_genre_index, genre_embeddings_matrix)\n",
    "        probs = actor(state)\n",
    "\n",
    "        action_index = sample_action(probs, available_movies)\n",
    "        movie_id = index_to_movieId[action_index]\n",
    "\n",
    "        reward_row = rated[rated['movieId'] == movie_id]\n",
    "        reward = reward_row['rating'].values[0] / 5.0 if not reward_row.empty else 0.0\n",
    "        if reward >= 0.6:\n",
    "            correct_recommendations += 1\n",
    "\n",
    "        next_state = get_state(user_id, history + [action_index], user_embeddings, movie_embeddings, movies, movieId_to_genre_index, genre_embeddings_matrix)\n",
    "        value = critic(state)\n",
    "        next_value = critic(next_state).detach()\n",
    "        td_target = reward + GAMMA * next_value\n",
    "        td_error = td_target - value\n",
    "\n",
    "        # Critic update\n",
    "        critic_loss = td_error.pow(2).mean()\n",
    "        critic_optim.zero_grad()\n",
    "        critic_loss.backward()\n",
    "        critic_optim.step()\n",
    "        critic_losses.append(critic_loss.item())\n",
    "\n",
    "        # Actor update\n",
    "        log_prob = torch.log(probs[action_index])\n",
    "        actor_loss = -log_prob * td_error.detach()\n",
    "        actor_optim.zero_grad()\n",
    "        actor_loss.backward()\n",
    "        actor_optim.step()\n",
    "        actor_losses.append(actor_loss.item())\n",
    "\n",
    "        history.append(action_index)\n",
    "        total_reward += reward\n",
    "\n",
    "    reward_history.append(total_reward)\n",
    "    hit_rates.append(correct_recommendations / 10)\n",
    "\n",
    "    if episode % 10 == 0:\n",
    "        avg_reward = np.mean(reward_history[-10:])\n",
    "        avg_hit = np.mean(hit_rates[-10:])\n",
    "        print(f\"[Ep {episode}] Avg Reward: {avg_reward:.3f} | Hit Rate: {avg_hit:.2f}\")\n",
    "\n",
    "    if episode % 50 == 0:\n",
    "        test_users = random.sample(list(ratings['userId'].unique()), 100)\n",
    "        eval_reward = evaluate_policy(actor, user_embeddings, movie_embeddings, ratings, test_users, movies, movieId_to_genre_index, genre_embeddings_matrix)\n",
    "        eval_scores.append((episode, eval_reward))\n",
    "        print(f\"[Eval @ Ep {episode}] Avg Test Reward: {eval_reward:.3f}\")\n",
    "\n",
    "# --- Plotting ---\n",
    "plt.figure(figsize=(12, 4))\n",
    "plt.subplot(1, 3, 1)\n",
    "plt.plot(reward_history, label=\"Reward per Episode\", alpha=0.7) # Added label and alpha\n",
    "# Calculate moving average\n",
    "window_size = 20\n",
    "if len(reward_history) >= window_size:\n",
    "    moving_avg = np.convolve(reward_history, np.ones(window_size)/window_size, mode='valid')\n",
    "    plt.plot(range(window_size - 1, len(reward_history)), moving_avg, color='red', label=f'Moving Avg ({window_size} ep)')\n",
    "plt.title(\"Total Reward per Episode\", fontsize=14)\n",
    "plt.xlabel(\"Episode\", fontsize=12)\n",
    "plt.ylabel(\"Reward\", fontsize=12)\n",
    "plt.legend()\n",
    "plt.grid(True)\n",
    "\n",
    "plt.subplot(1, 3, 2)\n",
    "plt.plot(actor_losses, label=\"Actor Loss\", alpha=0.7)\n",
    "plt.plot(critic_losses, label=\"Critic Loss\", alpha=0.7)\n",
    "plt.title(\"Losses\", fontsize=14)\n",
    "plt.xlabel(\"Episode\", fontsize=12)\n",
    "plt.ylabel(\"Loss Value\", fontsize=12)\n",
    "plt.legend(fontsize=10)\n",
    "plt.grid(True)\n",
    "\n",
    "plt.subplot(1, 3, 3)\n",
    "eval_x, eval_y = zip(*eval_scores)\n",
    "plt.plot(eval_x, eval_y, marker='o', linestyle='-', label=\"Evaluation Reward\") # Added markers and label\n",
    "plt.title(\"Evaluation Reward\", fontsize=14)\n",
    "plt.xlabel(\"Episode\", fontsize=12)\n",
    "plt.ylabel(\"Avg Test Reward\", fontsize=12)\n",
    "plt.legend()\n",
    "plt.grid(True)\n",
    "\n",
    "plt.tight_layout()\n",
    "torch.save(actor.state_dict(), \"trained_actor_policy.pt\")\n",
    "plt.show()"
   ]
  },
  {
   "cell_type": "code",
   "execution_count": 56,
   "id": "6343399d",
   "metadata": {
    "tags": []
   },
   "outputs": [
    {
     "name": "stdout",
     "output_type": "stream",
     "text": [
      "🎬 Starting personalized movie recommendations (with genre info and popular start!). You’ll rate 10 movies!\n",
      "\n",
      "🎬 First Movie (from top rated): **Fitzgerald (2002)**\n",
      "📚 Genres: Drama\n"
     ]
    },
    {
     "name": "stdin",
     "output_type": "stream",
     "text": [
      "⭐ Your rating (0.5 to 5.0):  2.0\n"
     ]
    },
    {
     "name": "stdout",
     "output_type": "stream",
     "text": [
      "✅ You rated: 2.0/5.0 → reward = 0.40\n",
      "\n",
      "📽️ Recommendation #2: **Pulp Fiction (1994)**\n",
      "📚 Genres: Comedy|Crime|Drama|Thriller\n"
     ]
    },
    {
     "name": "stdin",
     "output_type": "stream",
     "text": [
      "⭐ Your rating (0.5 to 5.0):  4.5\n"
     ]
    },
    {
     "name": "stdout",
     "output_type": "stream",
     "text": [
      "✅ You rated: 4.5/5.0 → reward = 0.90\n",
      "\n",
      "📽️ Recommendation #3: **Star Wars: Episode IV - A New Hope (1977)**\n",
      "📚 Genres: Action|Adventure|Sci-Fi\n"
     ]
    },
    {
     "name": "stdin",
     "output_type": "stream",
     "text": [
      "⭐ Your rating (0.5 to 5.0):  3.0\n"
     ]
    },
    {
     "name": "stdout",
     "output_type": "stream",
     "text": [
      "✅ You rated: 3.0/5.0 → reward = 0.60\n",
      "\n",
      "📽️ Recommendation #4: **Aliens (1986)**\n",
      "📚 Genres: Action|Adventure|Horror|Sci-Fi\n"
     ]
    },
    {
     "name": "stdin",
     "output_type": "stream",
     "text": [
      "⭐ Your rating (0.5 to 5.0):  2.5\n"
     ]
    },
    {
     "name": "stdout",
     "output_type": "stream",
     "text": [
      "✅ You rated: 2.5/5.0 → reward = 0.50\n",
      "\n",
      "📽️ Recommendation #5: **Matrix, The (1999)**\n",
      "📚 Genres: Action|Sci-Fi|Thriller\n"
     ]
    },
    {
     "name": "stdin",
     "output_type": "stream",
     "text": [
      "⭐ Your rating (0.5 to 5.0):  2.0\n"
     ]
    },
    {
     "name": "stdout",
     "output_type": "stream",
     "text": [
      "✅ You rated: 2.0/5.0 → reward = 0.40\n",
      "\n",
      "📽️ Recommendation #6: **Braveheart (1995)**\n",
      "📚 Genres: Action|Drama|War\n"
     ]
    },
    {
     "name": "stdin",
     "output_type": "stream",
     "text": [
      "⭐ Your rating (0.5 to 5.0):  2.0\n"
     ]
    },
    {
     "name": "stdout",
     "output_type": "stream",
     "text": [
      "✅ You rated: 2.0/5.0 → reward = 0.40\n",
      "\n",
      "📽️ Recommendation #7: **Lord of the Rings: The Fellowship of the Ring, The (2001)**\n",
      "📚 Genres: Adventure|Fantasy\n"
     ]
    },
    {
     "name": "stdin",
     "output_type": "stream",
     "text": [
      "⭐ Your rating (0.5 to 5.0):  2.0\n"
     ]
    },
    {
     "name": "stdout",
     "output_type": "stream",
     "text": [
      "✅ You rated: 2.0/5.0 → reward = 0.40\n",
      "\n",
      "📽️ Recommendation #8: **Shawshank Redemption, The (1994)**\n",
      "📚 Genres: Crime|Drama\n"
     ]
    },
    {
     "name": "stdin",
     "output_type": "stream",
     "text": [
      "⭐ Your rating (0.5 to 5.0):  2.0\n"
     ]
    },
    {
     "name": "stdout",
     "output_type": "stream",
     "text": [
      "✅ You rated: 2.0/5.0 → reward = 0.40\n",
      "\n",
      "📽️ Recommendation #9: **Beauty and the Beast (1991)**\n",
      "📚 Genres: Animation|Children|Fantasy|Musical|Romance|IMAX\n"
     ]
    },
    {
     "name": "stdin",
     "output_type": "stream",
     "text": [
      "⭐ Your rating (0.5 to 5.0):  4.9\n"
     ]
    },
    {
     "name": "stdout",
     "output_type": "stream",
     "text": [
      "✅ You rated: 4.9/5.0 → reward = 0.98\n",
      "\n",
      "📽️ Recommendation #10: **Ghost (1990)**\n",
      "📚 Genres: Comedy|Drama|Fantasy|Romance|Thriller\n"
     ]
    },
    {
     "name": "stdin",
     "output_type": "stream",
     "text": [
      "⭐ Your rating (0.5 to 5.0):  5.0\n"
     ]
    },
    {
     "name": "stdout",
     "output_type": "stream",
     "text": [
      "✅ You rated: 5.0/5.0 → reward = 1.00\n"
     ]
    }
   ],
   "source": [
    "# --- Load trained actor policy ---\n",
    "EMBED_DIM = user_embeddings.shape[1]\n",
    "GENRE_EMBED_DIM = genre_embeddings_matrix.shape[1]\n",
    "actor = Actor(input_dim=STATE_DIM, output_dim=len(movie_embeddings), temperature=0.8)\n",
    "actor.load_state_dict(torch.load(\"trained_actor_policy.pt\"))\n",
    "actor.eval()\n",
    "\n",
    "# --- Build movieId → title/genre lookup ---\n",
    "raw_movies = pd.read_csv('/home/gbz6qn/Documents/MSDS/DS7540/project/ml-32m/movies.csv')\n",
    "movieId_to_title = dict(zip(raw_movies['movieId'], raw_movies['title']))\n",
    "movieId_to_genre = dict(zip(raw_movies['movieId'], raw_movies['genres']))\n",
    "\n",
    "# --- Helper: construct state vector with genre info ---\n",
    "def get_state(user_id, history, user_embeddings, genre_embeddings_matrix, movieId_to_genre_index, index_to_movieId):\n",
    "    user_embed = user_embeddings[user_id] if isinstance(user_embeddings[user_id], torch.Tensor) \\\n",
    "        else torch.tensor(user_embeddings[user_id], dtype=torch.float32)\n",
    "    history_genre_embeds = []\n",
    "\n",
    "    if history:\n",
    "        for movie_index in history:\n",
    "            movie_id = index_to_movieId[movie_index]\n",
    "            if movie_id in movieId_to_genre_index:\n",
    "                genre_index = movieId_to_genre_index[movie_id]\n",
    "                history_genre_embeds.append(torch.tensor(genre_embeddings_matrix[genre_index], dtype=torch.float32))\n",
    "\n",
    "        if history_genre_embeds:\n",
    "            history_genre_embed = torch.stack(history_genre_embeds).mean(dim=0)\n",
    "        else:\n",
    "            history_genre_embed = torch.zeros(genre_embeddings_matrix.shape[1], dtype=torch.float32)\n",
    "    else:\n",
    "        history_genre_embed = torch.zeros(genre_embeddings_matrix.shape[1], dtype=torch.float32)\n",
    "\n",
    "    return torch.cat([user_embed, history_genre_embed], dim=0)\n",
    "\n",
    "# --- Helper: sample action with fallback ---\n",
    "def get_state(user_id, history, user_embeddings, genre_embeddings_matrix, movieId_to_genre_index, index_to_movieId):\n",
    "    user_embed = user_embeddings[user_id] if isinstance(user_embeddings[user_id], torch.Tensor) \\\n",
    "        else torch.tensor(user_embeddings[user_id], dtype=torch.float32)\n",
    "    history_genre_embeds = []\n",
    "\n",
    "    if history:\n",
    "        for movie_index in history:\n",
    "            movie_id = index_to_movieId[movie_index]\n",
    "            if movie_id in movieId_to_genre_index:\n",
    "                genre_index = movieId_to_genre_index[movie_id]\n",
    "                history_genre_embeds.append(torch.tensor(genre_embeddings_matrix[genre_index], dtype=torch.float32))\n",
    "\n",
    "        if history_genre_embeds:\n",
    "            history_genre_embed = torch.stack(history_genre_embeds).mean(dim=0)\n",
    "        else:\n",
    "            history_genre_embed = torch.zeros(genre_embeddings_matrix.shape[1], dtype=torch.float32)\n",
    "    else:\n",
    "        history_genre_embed = torch.zeros(genre_embeddings_matrix.shape[1], dtype=torch.float32)\n",
    "\n",
    "    return torch.cat([user_embed, history_genre_embed], dim=0)\n",
    "\n",
    "# --- Helper: sample action with fallback ---\n",
    "def sample_action(probs, available_movies):\n",
    "    available_movies_tensor = torch.tensor(available_movies, dtype=torch.long)\n",
    "    probs_filtered = probs[available_movies_tensor]\n",
    "    if probs_filtered.sum().item() == 0 or torch.any(torch.isnan(probs_filtered)):\n",
    "        idx = np.random.randint(0, len(available_movies))\n",
    "    else:\n",
    "        probs_filtered /= probs_filtered.sum()\n",
    "        idx = torch.multinomial(probs_filtered, 1).item()\n",
    "    return available_movies[idx]\n",
    "\n",
    "# --- Interactive Recommender Session with Genre and Popular Start ---\n",
    "def recommend_loop(user_embed, movie_embeddings, genre_embeddings_matrix, movieId_to_genre_index, index_to_movieId, ratings, k=10):\n",
    "    history = []\n",
    "    print(\"🎬 Starting personalized movie recommendations (with genre info and popular start!). You’ll rate 10 movies!\\n\")\n",
    "    user_embeddings_dict = {0: user_embed}\n",
    "\n",
    "    # --- Get top 100 rated movies ---\n",
    "    top_rated_movies = ratings.groupby('movieId')['rating'].mean().nlargest(100).index.tolist()\n",
    "    # Filter out movies that might not have embeddings\n",
    "    available_top_rated_indices = [movieId_to_index[mid] for mid in top_rated_movies if mid in movieId_to_index]\n",
    "\n",
    "    if not available_top_rated_indices:\n",
    "        print(\"Warning: Could not find any top-rated movies with embeddings. Starting with a random movie.\")\n",
    "        first_movie_index = random.randint(0, len(movie_embeddings) - 1)\n",
    "    else:\n",
    "        first_movie_index = random.choice(available_top_rated_indices)\n",
    "\n",
    "    history.append(first_movie_index)\n",
    "    first_movie_id = index_to_movieId[first_movie_index]\n",
    "    first_title = movieId_to_title.get(first_movie_id, f\"Movie ID {first_movie_id}\")\n",
    "    first_genres = movieId_to_genre.get(first_movie_id, \"Unknown Genre\")\n",
    "\n",
    "    print(f\"🎬 First Movie (from top rated): **{first_title}**\")\n",
    "    print(f\"📚 Genres: {first_genres}\")\n",
    "\n",
    "    while True:\n",
    "        try:\n",
    "            rating = float(input(\"⭐ Your rating (0.5 to 5.0): \"))\n",
    "            if 0.5 <= rating <= 5.0:\n",
    "                print(f\"✅ You rated: {rating}/5.0 → reward = {rating / 5.0:.2f}\")\n",
    "                break\n",
    "            else:\n",
    "                print(\"Please enter a rating between 0.5 and 5.0\")\n",
    "        except ValueError:\n",
    "            print(\"Invalid input. Please enter a number.\")\n",
    "\n",
    "    for step in range(k - 1): # Recommend k-1 more movies after the first\n",
    "        state = get_state(0, history, user_embeddings_dict, genre_embeddings_matrix, movieId_to_genre_index, index_to_movieId)\n",
    "        with torch.no_grad():\n",
    "            probs = actor(state)\n",
    "\n",
    "        all_movies = list(range(len(movie_embeddings)))\n",
    "        available_movies = [m for m in all_movies if m not in history]\n",
    "        action_index = sample_action(probs, available_movies)\n",
    "        history.append(action_index)\n",
    "\n",
    "        movie_id = index_to_movieId[action_index]\n",
    "        title = movieId_to_title.get(movie_id, f\"Movie ID {movie_id}\")\n",
    "        genres = movieId_to_genre.get(movie_id, \"Unknown Genre\")\n",
    "\n",
    "        print(f\"\\n📽️ Recommendation #{step + 2}: **{title}**\")\n",
    "        print(f\"📚 Genres: {genres}\")\n",
    "\n",
    "        while True:\n",
    "            try:\n",
    "                rating = float(input(\"⭐ Your rating (0.5 to 5.0): \"))\n",
    "                if 0.5 <= rating <= 5.0:\n",
    "                    print(f\"✅ You rated: {rating}/5.0 → reward = {rating / 5.0:.2f}\")\n",
    "                    break\n",
    "                else:\n",
    "                    print(\"Please enter a rating between 0.5 and 5.0\")\n",
    "            except ValueError:\n",
    "                print(\"Invalid input. Please enter a number.\")\n",
    "\n",
    "# --- Load genre embeddings and run session ---\n",
    "genre_embeddings_matrix = np.load('/home/gbz6qn/Documents/MSDS/DS7540/project/IL/genre_embeddings.npy') # Load your saved genre embeddings\n",
    "#movieId_to_genre_index_df = pd.read_csv('/home/gbz6qn/Documents/MSDS/DS7540/project/IL/movieId_to_genre_index.csv') # Load your saved mapping\n",
    "#movieId_to_genre_index = dict(zip(movieId_to_genre_index_df['movieId'], movieId_to_genre_index_df['genre_index']))\n",
    "\n",
    "\n",
    "# --- Define STATE_DIM correctly ---\n",
    "EMBED_DIM = user_embeddings.shape[1]\n",
    "GENRE_EMBED_DIM = genre_embeddings_matrix.shape[1]\n",
    "STATE_DIM = EMBED_DIM + GENRE_EMBED_DIM\n",
    "\n",
    "# --- Run session with average user embedding and genre info ---\n",
    "user_embed = torch.tensor(user_embeddings.mean(axis=0), dtype=torch.float32)\n",
    "recommend_loop(user_embed, movie_embeddings, genre_embeddings_matrix, movieId_to_genre_index, index_to_movieId, ratings, k=10)"
   ]
  },
  {
   "cell_type": "code",
   "execution_count": null,
   "id": "9e7e8666",
   "metadata": {},
   "outputs": [],
   "source": []
  }
 ],
 "metadata": {
  "kernelspec": {
   "display_name": "PyTorch 2.4.0",
   "language": "python",
   "name": "pytorch-2.4.0"
  },
  "language_info": {
   "codemirror_mode": {
    "name": "ipython",
    "version": 3
   },
   "file_extension": ".py",
   "mimetype": "text/x-python",
   "name": "python",
   "nbconvert_exporter": "python",
   "pygments_lexer": "ipython3",
   "version": "3.10.12"
  }
 },
 "nbformat": 4,
 "nbformat_minor": 5
}
